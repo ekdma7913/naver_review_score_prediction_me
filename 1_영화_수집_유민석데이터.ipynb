{
 "cells": [
  {
   "cell_type": "code",
   "execution_count": 1,
   "id": "c7c7c525",
   "metadata": {
    "ExecuteTime": {
     "end_time": "2022-01-12T03:08:00.516394Z",
     "start_time": "2022-01-12T03:08:00.209391Z"
    }
   },
   "outputs": [],
   "source": [
    "from selenium import webdriver\n",
    "from selenium.webdriver.common.keys import Keys\n",
    "from selenium.webdriver.common.by import By\n",
    "import os\n",
    "import time\n",
    "\n",
    "import pandas as pd\n",
    "import openpyxl"
   ]
  },
  {
   "cell_type": "code",
   "execution_count": 2,
   "id": "d0eba1a3",
   "metadata": {
    "ExecuteTime": {
     "end_time": "2022-01-12T03:32:01.658615Z",
     "start_time": "2022-01-12T03:08:31.596997Z"
    }
   },
   "outputs": [],
   "source": [
    "## 영화 관련 정보 추출 : 1개 = #살아있다\n",
    "data = []\n",
    "driver = webdriver.Chrome()\n",
    "\n",
    "# 내가 읽고 싶은 페이지 수\n",
    "page = 1000\n",
    "\n",
    "for a in range(1,page+1): # 페이지1장 당 10개의 리뷰\n",
    "    #다음 장 넘기기\n",
    "    driver.get(\"https://movie.naver.com/movie/point/af/list.naver?st=mcode&sword=189537&target=after&page=\"+str(a))\n",
    "    time.sleep(1)\n",
    "    # 영화 이름 20개 이름, 별점, 리뷰내용 추출\n",
    "    b = driver.find_elements(By.CLASS_NAME,\"title\")\n",
    "    for x in range(10):\n",
    "        # 영화 이름\n",
    "        name = b[x].text.split(\"\\n\")[0]\n",
    "\n",
    "        # 영화 평점 별점\n",
    "        num = b[x].text.split(\"\\n\")[2]\n",
    "\n",
    "        # 영화 평점 내용\n",
    "        review = b[x].text.split(\"\\n\")[3][:-3]\n",
    "\n",
    "        data.append(np.asarray((name,num,review)))\n",
    "        \n",
    "data_df = pd.DataFrame(data,columns=['name','num','review'])\n"
   ]
  },
  {
   "cell_type": "code",
   "execution_count": 3,
   "id": "672ce0f8",
   "metadata": {
    "ExecuteTime": {
     "end_time": "2022-01-12T03:32:01.905555Z",
     "start_time": "2022-01-12T03:32:01.898074Z"
    }
   },
   "outputs": [
    {
     "data": {
      "text/html": [
       "<div>\n",
       "<style scoped>\n",
       "    .dataframe tbody tr th:only-of-type {\n",
       "        vertical-align: middle;\n",
       "    }\n",
       "\n",
       "    .dataframe tbody tr th {\n",
       "        vertical-align: top;\n",
       "    }\n",
       "\n",
       "    .dataframe thead th {\n",
       "        text-align: right;\n",
       "    }\n",
       "</style>\n",
       "<table border=\"1\" class=\"dataframe\">\n",
       "  <thead>\n",
       "    <tr style=\"text-align: right;\">\n",
       "      <th></th>\n",
       "      <th>name</th>\n",
       "      <th>num</th>\n",
       "      <th>review</th>\n",
       "    </tr>\n",
       "  </thead>\n",
       "  <tbody>\n",
       "    <tr>\n",
       "      <th>0</th>\n",
       "      <td>#살아있다</td>\n",
       "      <td>1</td>\n",
       "      <td>좀비물 웬만한건 다 재밌었는데 이건 정말…..이해안가는 부분도 많고 소방관좀비 나올...</td>\n",
       "    </tr>\n",
       "    <tr>\n",
       "      <th>1</th>\n",
       "      <td>#살아있다</td>\n",
       "      <td>2</td>\n",
       "      <td>오늘 케이블에서 하길래봤는데, 좀 어이없더라. 마지막 헬기가 이륙해서 구하는건 말이...</td>\n",
       "    </tr>\n",
       "    <tr>\n",
       "      <th>2</th>\n",
       "      <td>#살아있다</td>\n",
       "      <td>7</td>\n",
       "      <td>어이없는 부분이 있네요</td>\n",
       "    </tr>\n",
       "    <tr>\n",
       "      <th>3</th>\n",
       "      <td>#살아있다</td>\n",
       "      <td>10</td>\n",
       "      <td></td>\n",
       "    </tr>\n",
       "    <tr>\n",
       "      <th>4</th>\n",
       "      <td>#살아있다</td>\n",
       "      <td>1</td>\n",
       "      <td>개연성 진짜 개노답 남자가 통신 안되서 베란다 매달려서 신호잡다가 추락 하는데 그 ...</td>\n",
       "    </tr>\n",
       "    <tr>\n",
       "      <th>...</th>\n",
       "      <td>...</td>\n",
       "      <td>...</td>\n",
       "      <td>...</td>\n",
       "    </tr>\n",
       "    <tr>\n",
       "      <th>9995</th>\n",
       "      <td>#살아있다</td>\n",
       "      <td>1</td>\n",
       "      <td>진짜 짱 이런영화 처음 감독이 돈이 없었나</td>\n",
       "    </tr>\n",
       "    <tr>\n",
       "      <th>9996</th>\n",
       "      <td>#살아있다</td>\n",
       "      <td>7</td>\n",
       "      <td>기대안하고보면 재미있게 볼수있는 영화 그자체</td>\n",
       "    </tr>\n",
       "    <tr>\n",
       "      <th>9997</th>\n",
       "      <td>#살아있다</td>\n",
       "      <td>4</td>\n",
       "      <td>유아인 박신혜아니였음 똥망 영화이지만집에 장을 많이 봐두고 먹을꺼 풍족하게 놓고 드...</td>\n",
       "    </tr>\n",
       "    <tr>\n",
       "      <th>9998</th>\n",
       "      <td>#살아있다</td>\n",
       "      <td>10</td>\n",
       "      <td>엄마랑 재밌게봤음 재밋없다길래 기대안하고봤더니 존잼입니당</td>\n",
       "    </tr>\n",
       "    <tr>\n",
       "      <th>9999</th>\n",
       "      <td>#살아있다</td>\n",
       "      <td>2</td>\n",
       "      <td>ㄹㅇ 대사보다 좀비들 그르릉 거리는게 더 많이나옴전개도 별로임</td>\n",
       "    </tr>\n",
       "  </tbody>\n",
       "</table>\n",
       "<p>10000 rows × 3 columns</p>\n",
       "</div>"
      ],
      "text/plain": [
       "       name num                                             review\n",
       "0     #살아있다   1  좀비물 웬만한건 다 재밌었는데 이건 정말…..이해안가는 부분도 많고 소방관좀비 나올...\n",
       "1     #살아있다   2  오늘 케이블에서 하길래봤는데, 좀 어이없더라. 마지막 헬기가 이륙해서 구하는건 말이...\n",
       "2     #살아있다   7                                       어이없는 부분이 있네요\n",
       "3     #살아있다  10                                                   \n",
       "4     #살아있다   1  개연성 진짜 개노답 남자가 통신 안되서 베란다 매달려서 신호잡다가 추락 하는데 그 ...\n",
       "...     ...  ..                                                ...\n",
       "9995  #살아있다   1                            진짜 짱 이런영화 처음 감독이 돈이 없었나\n",
       "9996  #살아있다   7                           기대안하고보면 재미있게 볼수있는 영화 그자체\n",
       "9997  #살아있다   4  유아인 박신혜아니였음 똥망 영화이지만집에 장을 많이 봐두고 먹을꺼 풍족하게 놓고 드...\n",
       "9998  #살아있다  10                    엄마랑 재밌게봤음 재밋없다길래 기대안하고봤더니 존잼입니당\n",
       "9999  #살아있다   2                 ㄹㅇ 대사보다 좀비들 그르릉 거리는게 더 많이나옴전개도 별로임\n",
       "\n",
       "[10000 rows x 3 columns]"
      ]
     },
     "execution_count": 3,
     "metadata": {},
     "output_type": "execute_result"
    }
   ],
   "source": [
    "data_df"
   ]
  },
  {
   "cell_type": "code",
   "execution_count": 4,
   "id": "82b9a315",
   "metadata": {
    "ExecuteTime": {
     "end_time": "2022-01-12T03:32:02.871897Z",
     "start_time": "2022-01-12T03:32:02.137165Z"
    }
   },
   "outputs": [],
   "source": [
    "data_df.to_excel(\"영화목록3.xlsx\",engine=\"openpyxl\")\n",
    "#나중에 누가 받을때 오류나면 아마 uft-8 cp949 관련 문제이니 encoding 설정하면된다"
   ]
  },
  {
   "cell_type": "code",
   "execution_count": null,
   "id": "4c3fcbfc",
   "metadata": {},
   "outputs": [],
   "source": [
    "######### 노-력 흔적들 #########"
   ]
  },
  {
   "cell_type": "code",
   "execution_count": 9,
   "id": "3d423b31",
   "metadata": {
    "ExecuteTime": {
     "end_time": "2022-01-10T02:50:40.105876Z",
     "start_time": "2022-01-10T02:50:39.975049Z"
    }
   },
   "outputs": [
    {
     "name": "stdout",
     "output_type": "stream",
     "text": [
      "스파이더맨: 노 웨이 홈\n",
      "별점 - 총 10점 중\n",
      "10\n",
      "눈은 즐거웠습니다 신고\n",
      "스파이더맨: 노 웨이 홈\n",
      "별점 - 총 10점 중\n",
      "10\n",
      "신고\n",
      "스파이더맨: 노 웨이 홈\n",
      "별점 - 총 10점 중\n",
      "10\n",
      "삼스파가 모였을 때 정말 좋았어요. 신고\n",
      "스파이더맨: 노 웨이 홈\n",
      "별점 - 총 10점 중\n",
      "6\n",
      "기억에 남는 액션이 없어요.. 신고\n",
      "스파이더맨: 노 웨이 홈\n",
      "별점 - 총 10점 중\n",
      "8\n",
      "전반적으로 너무 재밌게 봤는데 이제는 마블 스토리가 점점 복잡해져요 신고\n",
      "스파이더맨: 노 웨이 홈\n",
      "별점 - 총 10점 중\n",
      "8\n",
      "주인공 개 극암덩이샛기임 신고\n",
      "스파이더맨: 노 웨이 홈\n",
      "별점 - 총 10점 중\n",
      "10\n",
      "기존의 스파이더맨은 이번편을 위하여 만들어진 것이라 해도 과언이 아닐 정도로 좋았습니다.스파이더맨 전 시리즈 보시고 노웨이홈 보는거 추천드려요 ㅎㅎㅎ 신고\n",
      "스파이더맨: 노 웨이 홈\n",
      "별점 - 총 10점 중\n",
      "8\n",
      "아주 길었지만 시간 가는줄 모르고 재밌게 봤어요 신고\n",
      "스파이더맨: 노 웨이 홈\n",
      "별점 - 총 10점 중\n",
      "10\n",
      "ㅠ 지렸다 역대급 스파이더맨.. 신고\n",
      "스파이더맨: 노 웨이 홈\n",
      "별점 - 총 10점 중\n",
      "10\n",
      "존잼 신고\n"
     ]
    }
   ],
   "source": [
    "# 영화 이름 10개 이름, 별점, 리뷰내용\n",
    "b = driver.find_elements(By.CLASS_NAME,\"title\")\n",
    "for x in b:\n",
    "    print(x.text)"
   ]
  },
  {
   "cell_type": "code",
   "execution_count": 21,
   "id": "319de76d",
   "metadata": {
    "ExecuteTime": {
     "end_time": "2022-01-10T02:53:20.987916Z",
     "start_time": "2022-01-10T02:53:20.940454Z"
    }
   },
   "outputs": [
    {
     "name": "stdout",
     "output_type": "stream",
     "text": [
      "스파이더맨: 노 웨이 홈\n",
      "10\n",
      "눈은 즐거웠습니다\n"
     ]
    }
   ],
   "source": [
    "# 영화 이름\n",
    "print(b[0].text.split(\"\\n\")[0])\n",
    "\n",
    "# 영화 평점 별점\n",
    "print(b[0].text.split(\"\\n\")[2])\n",
    "\n",
    "# 영화 평점 내용\n",
    "print(b[0].text.split(\"\\n\")[3][:-3])"
   ]
  },
  {
   "cell_type": "code",
   "execution_count": null,
   "id": "1aa7fb67",
   "metadata": {},
   "outputs": [],
   "source": []
  }
 ],
 "metadata": {
  "kernelspec": {
   "display_name": "Python 3 (ipykernel)",
   "language": "python",
   "name": "python3"
  },
  "language_info": {
   "codemirror_mode": {
    "name": "ipython",
    "version": 3
   },
   "file_extension": ".py",
   "mimetype": "text/x-python",
   "name": "python",
   "nbconvert_exporter": "python",
   "pygments_lexer": "ipython3",
   "version": "3.9.9"
  },
  "toc": {
   "base_numbering": 1,
   "nav_menu": {},
   "number_sections": true,
   "sideBar": true,
   "skip_h1_title": false,
   "title_cell": "Table of Contents",
   "title_sidebar": "Contents",
   "toc_cell": false,
   "toc_position": {},
   "toc_section_display": true,
   "toc_window_display": false
  },
  "varInspector": {
   "cols": {
    "lenName": 16,
    "lenType": 16,
    "lenVar": 40
   },
   "kernels_config": {
    "python": {
     "delete_cmd_postfix": "",
     "delete_cmd_prefix": "del ",
     "library": "var_list.py",
     "varRefreshCmd": "print(var_dic_list())"
    },
    "r": {
     "delete_cmd_postfix": ") ",
     "delete_cmd_prefix": "rm(",
     "library": "var_list.r",
     "varRefreshCmd": "cat(var_dic_list()) "
    }
   },
   "types_to_exclude": [
    "module",
    "function",
    "builtin_function_or_method",
    "instance",
    "_Feature"
   ],
   "window_display": false
  }
 },
 "nbformat": 4,
 "nbformat_minor": 5
}
