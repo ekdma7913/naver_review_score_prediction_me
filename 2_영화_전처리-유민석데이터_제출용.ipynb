{
 "cells": [
  {
   "cell_type": "code",
   "execution_count": 2,
   "id": "49612c6c",
   "metadata": {
    "ExecuteTime": {
     "end_time": "2022-01-27T07:14:17.151730Z",
     "start_time": "2022-01-27T07:14:16.893526Z"
    }
   },
   "outputs": [],
   "source": [
    "import pandas as pd\n",
    "import openpyxl"
   ]
  },
  {
   "cell_type": "code",
   "execution_count": 3,
   "id": "02c257bc",
   "metadata": {
    "ExecuteTime": {
     "end_time": "2022-01-27T07:14:17.700090Z",
     "start_time": "2022-01-27T07:14:17.344735Z"
    }
   },
   "outputs": [],
   "source": [
    "# 영화 목록 불러오기\n",
    "xlsx = pd.read_excel('영화목록3_복구.xlsx',engine=\"openpyxl\")"
   ]
  },
  {
   "cell_type": "code",
   "execution_count": 4,
   "id": "f7c77edf",
   "metadata": {
    "ExecuteTime": {
     "end_time": "2022-01-27T07:14:17.831589Z",
     "start_time": "2022-01-27T07:14:17.824927Z"
    }
   },
   "outputs": [
    {
     "data": {
      "text/html": [
       "<div>\n",
       "<style scoped>\n",
       "    .dataframe tbody tr th:only-of-type {\n",
       "        vertical-align: middle;\n",
       "    }\n",
       "\n",
       "    .dataframe tbody tr th {\n",
       "        vertical-align: top;\n",
       "    }\n",
       "\n",
       "    .dataframe thead th {\n",
       "        text-align: right;\n",
       "    }\n",
       "</style>\n",
       "<table border=\"1\" class=\"dataframe\">\n",
       "  <thead>\n",
       "    <tr style=\"text-align: right;\">\n",
       "      <th></th>\n",
       "      <th>Unnamed: 0</th>\n",
       "      <th>name</th>\n",
       "      <th>num</th>\n",
       "      <th>review</th>\n",
       "    </tr>\n",
       "  </thead>\n",
       "  <tbody>\n",
       "    <tr>\n",
       "      <th>0</th>\n",
       "      <td>0</td>\n",
       "      <td>#살아있다</td>\n",
       "      <td>0</td>\n",
       "      <td>좀비물 웬만한건 다 재밌었는데 이건 정말…..이해안가는 부분도 많고 소방관좀비 나올...</td>\n",
       "    </tr>\n",
       "    <tr>\n",
       "      <th>1</th>\n",
       "      <td>1</td>\n",
       "      <td>#살아있다</td>\n",
       "      <td>1</td>\n",
       "      <td>오늘 케이블에서 하길래봤는데, 좀 어이없더라. 마지막 헬기가 이륙해서 구하는건 말이...</td>\n",
       "    </tr>\n",
       "    <tr>\n",
       "      <th>2</th>\n",
       "      <td>2</td>\n",
       "      <td>#살아있다</td>\n",
       "      <td>6</td>\n",
       "      <td>어이없는 부분이 있네요</td>\n",
       "    </tr>\n",
       "    <tr>\n",
       "      <th>3</th>\n",
       "      <td>3</td>\n",
       "      <td>#살아있다</td>\n",
       "      <td>9</td>\n",
       "      <td>NaN</td>\n",
       "    </tr>\n",
       "    <tr>\n",
       "      <th>4</th>\n",
       "      <td>4</td>\n",
       "      <td>#살아있다</td>\n",
       "      <td>0</td>\n",
       "      <td>개연성 진짜 개노답 남자가 통신 안되서 베란다 매달려서 신호잡다가 추락 하는데 그 ...</td>\n",
       "    </tr>\n",
       "    <tr>\n",
       "      <th>...</th>\n",
       "      <td>...</td>\n",
       "      <td>...</td>\n",
       "      <td>...</td>\n",
       "      <td>...</td>\n",
       "    </tr>\n",
       "    <tr>\n",
       "      <th>9995</th>\n",
       "      <td>9995</td>\n",
       "      <td>#살아있다</td>\n",
       "      <td>0</td>\n",
       "      <td>진짜 짱 이런영화 처음 감독이 돈이 없었나</td>\n",
       "    </tr>\n",
       "    <tr>\n",
       "      <th>9996</th>\n",
       "      <td>9996</td>\n",
       "      <td>#살아있다</td>\n",
       "      <td>6</td>\n",
       "      <td>기대안하고보면 재미있게 볼수있는 영화 그자체</td>\n",
       "    </tr>\n",
       "    <tr>\n",
       "      <th>9997</th>\n",
       "      <td>9997</td>\n",
       "      <td>#살아있다</td>\n",
       "      <td>3</td>\n",
       "      <td>유아인 박신혜아니였음 똥망 영화이지만집에 장을 많이 봐두고 먹을꺼 풍족하게 놓고 드...</td>\n",
       "    </tr>\n",
       "    <tr>\n",
       "      <th>9998</th>\n",
       "      <td>9998</td>\n",
       "      <td>#살아있다</td>\n",
       "      <td>9</td>\n",
       "      <td>엄마랑 재밌게봤음 재밋없다길래 기대안하고봤더니 존잼입니당</td>\n",
       "    </tr>\n",
       "    <tr>\n",
       "      <th>9999</th>\n",
       "      <td>9999</td>\n",
       "      <td>#살아있다</td>\n",
       "      <td>1</td>\n",
       "      <td>ㄹㅇ 대사보다 좀비들 그르릉 거리는게 더 많이나옴전개도 별로임</td>\n",
       "    </tr>\n",
       "  </tbody>\n",
       "</table>\n",
       "<p>10000 rows × 4 columns</p>\n",
       "</div>"
      ],
      "text/plain": [
       "      Unnamed: 0   name  num  \\\n",
       "0              0  #살아있다    0   \n",
       "1              1  #살아있다    1   \n",
       "2              2  #살아있다    6   \n",
       "3              3  #살아있다    9   \n",
       "4              4  #살아있다    0   \n",
       "...          ...    ...  ...   \n",
       "9995        9995  #살아있다    0   \n",
       "9996        9996  #살아있다    6   \n",
       "9997        9997  #살아있다    3   \n",
       "9998        9998  #살아있다    9   \n",
       "9999        9999  #살아있다    1   \n",
       "\n",
       "                                                 review  \n",
       "0     좀비물 웬만한건 다 재밌었는데 이건 정말…..이해안가는 부분도 많고 소방관좀비 나올...  \n",
       "1     오늘 케이블에서 하길래봤는데, 좀 어이없더라. 마지막 헬기가 이륙해서 구하는건 말이...  \n",
       "2                                          어이없는 부분이 있네요  \n",
       "3                                                   NaN  \n",
       "4     개연성 진짜 개노답 남자가 통신 안되서 베란다 매달려서 신호잡다가 추락 하는데 그 ...  \n",
       "...                                                 ...  \n",
       "9995                            진짜 짱 이런영화 처음 감독이 돈이 없었나  \n",
       "9996                           기대안하고보면 재미있게 볼수있는 영화 그자체  \n",
       "9997  유아인 박신혜아니였음 똥망 영화이지만집에 장을 많이 봐두고 먹을꺼 풍족하게 놓고 드...  \n",
       "9998                    엄마랑 재밌게봤음 재밋없다길래 기대안하고봤더니 존잼입니당  \n",
       "9999                 ㄹㅇ 대사보다 좀비들 그르릉 거리는게 더 많이나옴전개도 별로임  \n",
       "\n",
       "[10000 rows x 4 columns]"
      ]
     },
     "execution_count": 4,
     "metadata": {},
     "output_type": "execute_result"
    }
   ],
   "source": [
    "xlsx"
   ]
  },
  {
   "cell_type": "code",
   "execution_count": 5,
   "id": "a13c2226",
   "metadata": {
    "ExecuteTime": {
     "end_time": "2022-01-27T07:14:22.204994Z",
     "start_time": "2022-01-27T07:14:22.199207Z"
    }
   },
   "outputs": [
    {
     "name": "stdout",
     "output_type": "stream",
     "text": [
      "1255\n"
     ]
    }
   ],
   "source": [
    "count = 0\n",
    "for x in xlsx[\"num\"]:\n",
    "    if x == 9:\n",
    "        count = count + 1\n",
    "\n",
    "print(count)"
   ]
  },
  {
   "cell_type": "code",
   "execution_count": 5,
   "id": "a81aebe3",
   "metadata": {
    "ExecuteTime": {
     "end_time": "2022-01-13T02:22:43.413248Z",
     "start_time": "2022-01-13T02:22:43.409331Z"
    }
   },
   "outputs": [
    {
     "data": {
      "text/plain": [
       "10000"
      ]
     },
     "execution_count": 5,
     "metadata": {},
     "output_type": "execute_result"
    }
   ],
   "source": [
    "# 전체 리뷰 수\n",
    "len(xlsx[:])"
   ]
  },
  {
   "cell_type": "code",
   "execution_count": 6,
   "id": "ffed2a33",
   "metadata": {
    "ExecuteTime": {
     "end_time": "2022-01-13T02:22:43.861007Z",
     "start_time": "2022-01-13T02:22:43.851863Z"
    }
   },
   "outputs": [
    {
     "name": "stdout",
     "output_type": "stream",
     "text": [
      "Unnamed: 0      0\n",
      "name            0\n",
      "num             0\n",
      "review        371\n",
      "dtype: int64\n"
     ]
    }
   ],
   "source": [
    "## 데이터 정제\n",
    "# null 확인\n",
    "print(xlsx.isnull().sum())"
   ]
  },
  {
   "cell_type": "code",
   "execution_count": 7,
   "id": "019e86aa",
   "metadata": {
    "ExecuteTime": {
     "end_time": "2022-01-13T02:22:44.403768Z",
     "start_time": "2022-01-13T02:22:44.382879Z"
    }
   },
   "outputs": [
    {
     "data": {
      "text/html": [
       "<div>\n",
       "<style scoped>\n",
       "    .dataframe tbody tr th:only-of-type {\n",
       "        vertical-align: middle;\n",
       "    }\n",
       "\n",
       "    .dataframe tbody tr th {\n",
       "        vertical-align: top;\n",
       "    }\n",
       "\n",
       "    .dataframe thead th {\n",
       "        text-align: right;\n",
       "    }\n",
       "</style>\n",
       "<table border=\"1\" class=\"dataframe\">\n",
       "  <thead>\n",
       "    <tr style=\"text-align: right;\">\n",
       "      <th></th>\n",
       "      <th>Unnamed: 0</th>\n",
       "      <th>name</th>\n",
       "      <th>num</th>\n",
       "      <th>review</th>\n",
       "    </tr>\n",
       "  </thead>\n",
       "  <tbody>\n",
       "    <tr>\n",
       "      <th>0</th>\n",
       "      <td>0</td>\n",
       "      <td>#살아있다</td>\n",
       "      <td>0</td>\n",
       "      <td>좀비물 웬만한건 다 재밌었는데 이건 정말…..이해안가는 부분도 많고 소방관좀비 나올...</td>\n",
       "    </tr>\n",
       "    <tr>\n",
       "      <th>1</th>\n",
       "      <td>1</td>\n",
       "      <td>#살아있다</td>\n",
       "      <td>1</td>\n",
       "      <td>오늘 케이블에서 하길래봤는데, 좀 어이없더라. 마지막 헬기가 이륙해서 구하는건 말이...</td>\n",
       "    </tr>\n",
       "    <tr>\n",
       "      <th>2</th>\n",
       "      <td>2</td>\n",
       "      <td>#살아있다</td>\n",
       "      <td>6</td>\n",
       "      <td>어이없는 부분이 있네요</td>\n",
       "    </tr>\n",
       "    <tr>\n",
       "      <th>4</th>\n",
       "      <td>4</td>\n",
       "      <td>#살아있다</td>\n",
       "      <td>0</td>\n",
       "      <td>개연성 진짜 개노답 남자가 통신 안되서 베란다 매달려서 신호잡다가 추락 하는데 그 ...</td>\n",
       "    </tr>\n",
       "    <tr>\n",
       "      <th>5</th>\n",
       "      <td>5</td>\n",
       "      <td>#살아있다</td>\n",
       "      <td>0</td>\n",
       "      <td>시간 가는 줄 알고 봤습니다.</td>\n",
       "    </tr>\n",
       "    <tr>\n",
       "      <th>...</th>\n",
       "      <td>...</td>\n",
       "      <td>...</td>\n",
       "      <td>...</td>\n",
       "      <td>...</td>\n",
       "    </tr>\n",
       "    <tr>\n",
       "      <th>9995</th>\n",
       "      <td>9995</td>\n",
       "      <td>#살아있다</td>\n",
       "      <td>0</td>\n",
       "      <td>진짜 짱 이런영화 처음 감독이 돈이 없었나</td>\n",
       "    </tr>\n",
       "    <tr>\n",
       "      <th>9996</th>\n",
       "      <td>9996</td>\n",
       "      <td>#살아있다</td>\n",
       "      <td>6</td>\n",
       "      <td>기대안하고보면 재미있게 볼수있는 영화 그자체</td>\n",
       "    </tr>\n",
       "    <tr>\n",
       "      <th>9997</th>\n",
       "      <td>9997</td>\n",
       "      <td>#살아있다</td>\n",
       "      <td>3</td>\n",
       "      <td>유아인 박신혜아니였음 똥망 영화이지만집에 장을 많이 봐두고 먹을꺼 풍족하게 놓고 드...</td>\n",
       "    </tr>\n",
       "    <tr>\n",
       "      <th>9998</th>\n",
       "      <td>9998</td>\n",
       "      <td>#살아있다</td>\n",
       "      <td>9</td>\n",
       "      <td>엄마랑 재밌게봤음 재밋없다길래 기대안하고봤더니 존잼입니당</td>\n",
       "    </tr>\n",
       "    <tr>\n",
       "      <th>9999</th>\n",
       "      <td>9999</td>\n",
       "      <td>#살아있다</td>\n",
       "      <td>1</td>\n",
       "      <td>ㄹㅇ 대사보다 좀비들 그르릉 거리는게 더 많이나옴전개도 별로임</td>\n",
       "    </tr>\n",
       "  </tbody>\n",
       "</table>\n",
       "<p>9629 rows × 4 columns</p>\n",
       "</div>"
      ],
      "text/plain": [
       "      Unnamed: 0   name  num  \\\n",
       "0              0  #살아있다    0   \n",
       "1              1  #살아있다    1   \n",
       "2              2  #살아있다    6   \n",
       "4              4  #살아있다    0   \n",
       "5              5  #살아있다    0   \n",
       "...          ...    ...  ...   \n",
       "9995        9995  #살아있다    0   \n",
       "9996        9996  #살아있다    6   \n",
       "9997        9997  #살아있다    3   \n",
       "9998        9998  #살아있다    9   \n",
       "9999        9999  #살아있다    1   \n",
       "\n",
       "                                                 review  \n",
       "0     좀비물 웬만한건 다 재밌었는데 이건 정말…..이해안가는 부분도 많고 소방관좀비 나올...  \n",
       "1     오늘 케이블에서 하길래봤는데, 좀 어이없더라. 마지막 헬기가 이륙해서 구하는건 말이...  \n",
       "2                                          어이없는 부분이 있네요  \n",
       "4     개연성 진짜 개노답 남자가 통신 안되서 베란다 매달려서 신호잡다가 추락 하는데 그 ...  \n",
       "5                                      시간 가는 줄 알고 봤습니다.  \n",
       "...                                                 ...  \n",
       "9995                            진짜 짱 이런영화 처음 감독이 돈이 없었나  \n",
       "9996                           기대안하고보면 재미있게 볼수있는 영화 그자체  \n",
       "9997  유아인 박신혜아니였음 똥망 영화이지만집에 장을 많이 봐두고 먹을꺼 풍족하게 놓고 드...  \n",
       "9998                    엄마랑 재밌게봤음 재밋없다길래 기대안하고봤더니 존잼입니당  \n",
       "9999                 ㄹㅇ 대사보다 좀비들 그르릉 거리는게 더 많이나옴전개도 별로임  \n",
       "\n",
       "[9629 rows x 4 columns]"
      ]
     },
     "execution_count": 7,
     "metadata": {},
     "output_type": "execute_result"
    }
   ],
   "source": [
    "# null 제거\n",
    "xlsx2 = xlsx.dropna()\n",
    "xlsx2"
   ]
  },
  {
   "cell_type": "code",
   "execution_count": 8,
   "id": "203009ba",
   "metadata": {
    "ExecuteTime": {
     "end_time": "2022-01-13T02:22:45.111488Z",
     "start_time": "2022-01-13T02:22:45.082877Z"
    }
   },
   "outputs": [
    {
     "data": {
      "text/html": [
       "<div>\n",
       "<style scoped>\n",
       "    .dataframe tbody tr th:only-of-type {\n",
       "        vertical-align: middle;\n",
       "    }\n",
       "\n",
       "    .dataframe tbody tr th {\n",
       "        vertical-align: top;\n",
       "    }\n",
       "\n",
       "    .dataframe thead th {\n",
       "        text-align: right;\n",
       "    }\n",
       "</style>\n",
       "<table border=\"1\" class=\"dataframe\">\n",
       "  <thead>\n",
       "    <tr style=\"text-align: right;\">\n",
       "      <th></th>\n",
       "      <th>Unnamed: 0</th>\n",
       "      <th>name</th>\n",
       "      <th>num</th>\n",
       "      <th>review</th>\n",
       "    </tr>\n",
       "  </thead>\n",
       "  <tbody>\n",
       "    <tr>\n",
       "      <th>0</th>\n",
       "      <td>0</td>\n",
       "      <td>#살아있다</td>\n",
       "      <td>0</td>\n",
       "      <td>좀비물 웬만한건 다 재밌었는데 이건 정말…..이해안가는 부분도 많고 소방관좀비 나올...</td>\n",
       "    </tr>\n",
       "    <tr>\n",
       "      <th>1</th>\n",
       "      <td>1</td>\n",
       "      <td>#살아있다</td>\n",
       "      <td>1</td>\n",
       "      <td>오늘 케이블에서 하길래봤는데, 좀 어이없더라. 마지막 헬기가 이륙해서 구하는건 말이...</td>\n",
       "    </tr>\n",
       "    <tr>\n",
       "      <th>2</th>\n",
       "      <td>2</td>\n",
       "      <td>#살아있다</td>\n",
       "      <td>6</td>\n",
       "      <td>어이없는 부분이 있네요</td>\n",
       "    </tr>\n",
       "    <tr>\n",
       "      <th>4</th>\n",
       "      <td>4</td>\n",
       "      <td>#살아있다</td>\n",
       "      <td>0</td>\n",
       "      <td>개연성 진짜 개노답 남자가 통신 안되서 베란다 매달려서 신호잡다가 추락 하는데 그 ...</td>\n",
       "    </tr>\n",
       "    <tr>\n",
       "      <th>5</th>\n",
       "      <td>5</td>\n",
       "      <td>#살아있다</td>\n",
       "      <td>0</td>\n",
       "      <td>시간 가는 줄 알고 봤습니다.</td>\n",
       "    </tr>\n",
       "    <tr>\n",
       "      <th>...</th>\n",
       "      <td>...</td>\n",
       "      <td>...</td>\n",
       "      <td>...</td>\n",
       "      <td>...</td>\n",
       "    </tr>\n",
       "    <tr>\n",
       "      <th>9995</th>\n",
       "      <td>9995</td>\n",
       "      <td>#살아있다</td>\n",
       "      <td>0</td>\n",
       "      <td>진짜 짱 이런영화 처음 감독이 돈이 없었나</td>\n",
       "    </tr>\n",
       "    <tr>\n",
       "      <th>9996</th>\n",
       "      <td>9996</td>\n",
       "      <td>#살아있다</td>\n",
       "      <td>6</td>\n",
       "      <td>기대안하고보면 재미있게 볼수있는 영화 그자체</td>\n",
       "    </tr>\n",
       "    <tr>\n",
       "      <th>9997</th>\n",
       "      <td>9997</td>\n",
       "      <td>#살아있다</td>\n",
       "      <td>3</td>\n",
       "      <td>유아인 박신혜아니였음 똥망 영화이지만집에 장을 많이 봐두고 먹을꺼 풍족하게 놓고 드...</td>\n",
       "    </tr>\n",
       "    <tr>\n",
       "      <th>9998</th>\n",
       "      <td>9998</td>\n",
       "      <td>#살아있다</td>\n",
       "      <td>9</td>\n",
       "      <td>엄마랑 재밌게봤음 재밋없다길래 기대안하고봤더니 존잼입니당</td>\n",
       "    </tr>\n",
       "    <tr>\n",
       "      <th>9999</th>\n",
       "      <td>9999</td>\n",
       "      <td>#살아있다</td>\n",
       "      <td>1</td>\n",
       "      <td>ㄹㅇ 대사보다 좀비들 그르릉 거리는게 더 많이나옴전개도 별로임</td>\n",
       "    </tr>\n",
       "  </tbody>\n",
       "</table>\n",
       "<p>9588 rows × 4 columns</p>\n",
       "</div>"
      ],
      "text/plain": [
       "      Unnamed: 0   name  num  \\\n",
       "0              0  #살아있다    0   \n",
       "1              1  #살아있다    1   \n",
       "2              2  #살아있다    6   \n",
       "4              4  #살아있다    0   \n",
       "5              5  #살아있다    0   \n",
       "...          ...    ...  ...   \n",
       "9995        9995  #살아있다    0   \n",
       "9996        9996  #살아있다    6   \n",
       "9997        9997  #살아있다    3   \n",
       "9998        9998  #살아있다    9   \n",
       "9999        9999  #살아있다    1   \n",
       "\n",
       "                                                 review  \n",
       "0     좀비물 웬만한건 다 재밌었는데 이건 정말…..이해안가는 부분도 많고 소방관좀비 나올...  \n",
       "1     오늘 케이블에서 하길래봤는데, 좀 어이없더라. 마지막 헬기가 이륙해서 구하는건 말이...  \n",
       "2                                          어이없는 부분이 있네요  \n",
       "4     개연성 진짜 개노답 남자가 통신 안되서 베란다 매달려서 신호잡다가 추락 하는데 그 ...  \n",
       "5                                      시간 가는 줄 알고 봤습니다.  \n",
       "...                                                 ...  \n",
       "9995                            진짜 짱 이런영화 처음 감독이 돈이 없었나  \n",
       "9996                           기대안하고보면 재미있게 볼수있는 영화 그자체  \n",
       "9997  유아인 박신혜아니였음 똥망 영화이지만집에 장을 많이 봐두고 먹을꺼 풍족하게 놓고 드...  \n",
       "9998                    엄마랑 재밌게봤음 재밋없다길래 기대안하고봤더니 존잼입니당  \n",
       "9999                 ㄹㅇ 대사보다 좀비들 그르릉 거리는게 더 많이나옴전개도 별로임  \n",
       "\n",
       "[9588 rows x 4 columns]"
      ]
     },
     "execution_count": 8,
     "metadata": {},
     "output_type": "execute_result"
    }
   ],
   "source": [
    "# 중복 제거\n",
    "\n",
    "xlsx3 = xlsx2.drop_duplicates(\"review\")\n",
    "#subset=['review'], inplace=True\n",
    "xlsx3"
   ]
  },
  {
   "cell_type": "code",
   "execution_count": 10,
   "id": "0e682629",
   "metadata": {
    "ExecuteTime": {
     "end_time": "2022-01-13T02:25:28.236675Z",
     "start_time": "2022-01-13T02:25:28.232077Z"
    }
   },
   "outputs": [
    {
     "data": {
      "text/plain": [
       "9588"
      ]
     },
     "execution_count": 10,
     "metadata": {},
     "output_type": "execute_result"
    }
   ],
   "source": [
    "# 수정된 전체 리뷰 수\n",
    "len(xlsx3[:])"
   ]
  },
  {
   "cell_type": "code",
   "execution_count": 11,
   "id": "83a7e714",
   "metadata": {
    "ExecuteTime": {
     "end_time": "2022-01-13T02:25:29.250611Z",
     "start_time": "2022-01-13T02:25:29.213990Z"
    },
    "scrolled": true
   },
   "outputs": [
    {
     "name": "stderr",
     "output_type": "stream",
     "text": [
      "/var/folders/l9/xyk822g16sl49q_kknpsjxtm0000gn/T/ipykernel_8336/2532868866.py:3: FutureWarning: The default value of regex will change from True to False in a future version.\n",
      "  xlsx3[\"review\"] = xlsx3[\"review\"].str.replace(\"[^ㄱ-ㅎㅏ-ㅣ가-힣 ]\",\"\")\n",
      "/var/folders/l9/xyk822g16sl49q_kknpsjxtm0000gn/T/ipykernel_8336/2532868866.py:3: SettingWithCopyWarning: \n",
      "A value is trying to be set on a copy of a slice from a DataFrame.\n",
      "Try using .loc[row_indexer,col_indexer] = value instead\n",
      "\n",
      "See the caveats in the documentation: https://pandas.pydata.org/pandas-docs/stable/user_guide/indexing.html#returning-a-view-versus-a-copy\n",
      "  xlsx3[\"review\"] = xlsx3[\"review\"].str.replace(\"[^ㄱ-ㅎㅏ-ㅣ가-힣 ]\",\"\")\n"
     ]
    }
   ],
   "source": [
    "## 본격적인 데이터 전처리\n",
    "# 정규표현식 안에만 단어인식\n",
    "xlsx3[\"review\"] = xlsx3[\"review\"].str.replace(\"[^ㄱ-ㅎㅏ-ㅣ가-힣 ]\",\"\")"
   ]
  },
  {
   "cell_type": "code",
   "execution_count": 12,
   "id": "fcd5756f",
   "metadata": {
    "ExecuteTime": {
     "end_time": "2022-01-13T02:25:29.948374Z",
     "start_time": "2022-01-13T02:25:29.942030Z"
    }
   },
   "outputs": [
    {
     "data": {
      "text/plain": [
       "0       좀비물 웬만한건 다 재밌었는데 이건 정말이해안가는 부분도 많고 소방관좀비 나올때빼곤...\n",
       "1       오늘 케이블에서 하길래봤는데 좀 어이없더라 마지막 헬기가 이륙해서 구하는건 말이 안...\n",
       "2                                            어이없는 부분이 있네요\n",
       "4       개연성 진짜 개노답 남자가 통신 안되서 베란다 매달려서 신호잡다가 추락 하는데 그 ...\n",
       "5                                         시간 가는 줄 알고 봤습니다\n",
       "                              ...                        \n",
       "9995                              진짜 짱 이런영화 처음 감독이 돈이 없었나\n",
       "9996                             기대안하고보면 재미있게 볼수있는 영화 그자체\n",
       "9997    유아인 박신혜아니였음 똥망 영화이지만집에 장을 많이 봐두고 먹을꺼 풍족하게 놓고 드...\n",
       "9998                      엄마랑 재밌게봤음 재밋없다길래 기대안하고봤더니 존잼입니당\n",
       "9999                   ㄹㅇ 대사보다 좀비들 그르릉 거리는게 더 많이나옴전개도 별로임\n",
       "Name: review, Length: 9588, dtype: object"
      ]
     },
     "execution_count": 12,
     "metadata": {},
     "output_type": "execute_result"
    }
   ],
   "source": [
    "xlsx3[\"review\"]"
   ]
  },
  {
   "cell_type": "code",
   "execution_count": 13,
   "id": "2da4aaeb",
   "metadata": {
    "ExecuteTime": {
     "end_time": "2022-01-13T02:25:30.773485Z",
     "start_time": "2022-01-13T02:25:30.739718Z"
    }
   },
   "outputs": [
    {
     "name": "stdout",
     "output_type": "stream",
     "text": [
      "16\n",
      "전처리 후 테스트용 샘플의 개수 : 9572\n"
     ]
    },
    {
     "name": "stderr",
     "output_type": "stream",
     "text": [
      "/var/folders/l9/xyk822g16sl49q_kknpsjxtm0000gn/T/ipykernel_8336/2006286261.py:2: FutureWarning: The default value of regex will change from True to False in a future version.\n",
      "  xlsx3['review'] = xlsx3['review'].str.replace('^ +', \"\") #영어나 이상한 단어들로 나열되어있는 리뷰는 띄어쓰기만 있을겨 -> \"\"로 지워버리기\n",
      "/var/folders/l9/xyk822g16sl49q_kknpsjxtm0000gn/T/ipykernel_8336/2006286261.py:2: SettingWithCopyWarning: \n",
      "A value is trying to be set on a copy of a slice from a DataFrame.\n",
      "Try using .loc[row_indexer,col_indexer] = value instead\n",
      "\n",
      "See the caveats in the documentation: https://pandas.pydata.org/pandas-docs/stable/user_guide/indexing.html#returning-a-view-versus-a-copy\n",
      "  xlsx3['review'] = xlsx3['review'].str.replace('^ +', \"\") #영어나 이상한 단어들로 나열되어있는 리뷰는 띄어쓰기만 있을겨 -> \"\"로 지워버리기\n",
      "/Users/yu/miniforge3/envs/tf39/lib/python3.9/site-packages/pandas/core/generic.py:6619: SettingWithCopyWarning: \n",
      "A value is trying to be set on a copy of a slice from a DataFrame\n",
      "\n",
      "See the caveats in the documentation: https://pandas.pydata.org/pandas-docs/stable/user_guide/indexing.html#returning-a-view-versus-a-copy\n",
      "  return self._update_inplace(result)\n"
     ]
    }
   ],
   "source": [
    "# 정규표현식 후 비어있는 공간 -> null\n",
    "xlsx3['review'] = xlsx3['review'].str.replace('^ +', \"\") #영어나 이상한 단어들로 나열되어있는 리뷰는 띄어쓰기만 있을겨 -> \"\"로 지워버리기\n",
    "xlsx3['review'].replace('', np.nan, inplace=True) # \"\"인 것을 전부 nan 형태로 만들기\n",
    "print(xlsx3['review'].isnull().sum())\n",
    "\n",
    "# null 제거\n",
    "xlsx3 = xlsx3.dropna()\n",
    "\n",
    "print('전처리 후 테스트용 샘플의 개수 :',len(xlsx3))"
   ]
  },
  {
   "cell_type": "code",
   "execution_count": 14,
   "id": "b56bd7e1",
   "metadata": {
    "ExecuteTime": {
     "end_time": "2022-01-12T07:48:13.215081Z",
     "start_time": "2022-01-12T07:48:13.197874Z"
    }
   },
   "outputs": [
    {
     "data": {
      "text/html": [
       "<div>\n",
       "<style scoped>\n",
       "    .dataframe tbody tr th:only-of-type {\n",
       "        vertical-align: middle;\n",
       "    }\n",
       "\n",
       "    .dataframe tbody tr th {\n",
       "        vertical-align: top;\n",
       "    }\n",
       "\n",
       "    .dataframe thead th {\n",
       "        text-align: right;\n",
       "    }\n",
       "</style>\n",
       "<table border=\"1\" class=\"dataframe\">\n",
       "  <thead>\n",
       "    <tr style=\"text-align: right;\">\n",
       "      <th></th>\n",
       "      <th>Unnamed: 0</th>\n",
       "      <th>name</th>\n",
       "      <th>num</th>\n",
       "      <th>review</th>\n",
       "    </tr>\n",
       "  </thead>\n",
       "  <tbody>\n",
       "    <tr>\n",
       "      <th>0</th>\n",
       "      <td>0</td>\n",
       "      <td>#살아있다</td>\n",
       "      <td>0</td>\n",
       "      <td>좀비물 웬만한건 다 재밌었는데 이건 정말이해안가는 부분도 많고 소방관좀비 나올때빼곤...</td>\n",
       "    </tr>\n",
       "    <tr>\n",
       "      <th>1</th>\n",
       "      <td>1</td>\n",
       "      <td>#살아있다</td>\n",
       "      <td>1</td>\n",
       "      <td>오늘 케이블에서 하길래봤는데 좀 어이없더라 마지막 헬기가 이륙해서 구하는건 말이 안...</td>\n",
       "    </tr>\n",
       "    <tr>\n",
       "      <th>2</th>\n",
       "      <td>2</td>\n",
       "      <td>#살아있다</td>\n",
       "      <td>6</td>\n",
       "      <td>어이없는 부분이 있네요</td>\n",
       "    </tr>\n",
       "    <tr>\n",
       "      <th>3</th>\n",
       "      <td>4</td>\n",
       "      <td>#살아있다</td>\n",
       "      <td>0</td>\n",
       "      <td>개연성 진짜 개노답 남자가 통신 안되서 베란다 매달려서 신호잡다가 추락 하는데 그 ...</td>\n",
       "    </tr>\n",
       "    <tr>\n",
       "      <th>4</th>\n",
       "      <td>5</td>\n",
       "      <td>#살아있다</td>\n",
       "      <td>0</td>\n",
       "      <td>시간 가는 줄 알고 봤습니다</td>\n",
       "    </tr>\n",
       "    <tr>\n",
       "      <th>...</th>\n",
       "      <td>...</td>\n",
       "      <td>...</td>\n",
       "      <td>...</td>\n",
       "      <td>...</td>\n",
       "    </tr>\n",
       "    <tr>\n",
       "      <th>9567</th>\n",
       "      <td>9995</td>\n",
       "      <td>#살아있다</td>\n",
       "      <td>0</td>\n",
       "      <td>진짜 짱 이런영화 처음 감독이 돈이 없었나</td>\n",
       "    </tr>\n",
       "    <tr>\n",
       "      <th>9568</th>\n",
       "      <td>9996</td>\n",
       "      <td>#살아있다</td>\n",
       "      <td>6</td>\n",
       "      <td>기대안하고보면 재미있게 볼수있는 영화 그자체</td>\n",
       "    </tr>\n",
       "    <tr>\n",
       "      <th>9569</th>\n",
       "      <td>9997</td>\n",
       "      <td>#살아있다</td>\n",
       "      <td>3</td>\n",
       "      <td>유아인 박신혜아니였음 똥망 영화이지만집에 장을 많이 봐두고 먹을꺼 풍족하게 놓고 드...</td>\n",
       "    </tr>\n",
       "    <tr>\n",
       "      <th>9570</th>\n",
       "      <td>9998</td>\n",
       "      <td>#살아있다</td>\n",
       "      <td>9</td>\n",
       "      <td>엄마랑 재밌게봤음 재밋없다길래 기대안하고봤더니 존잼입니당</td>\n",
       "    </tr>\n",
       "    <tr>\n",
       "      <th>9571</th>\n",
       "      <td>9999</td>\n",
       "      <td>#살아있다</td>\n",
       "      <td>1</td>\n",
       "      <td>ㄹㅇ 대사보다 좀비들 그르릉 거리는게 더 많이나옴전개도 별로임</td>\n",
       "    </tr>\n",
       "  </tbody>\n",
       "</table>\n",
       "<p>9572 rows × 4 columns</p>\n",
       "</div>"
      ],
      "text/plain": [
       "      Unnamed: 0   name  num  \\\n",
       "0              0  #살아있다    0   \n",
       "1              1  #살아있다    1   \n",
       "2              2  #살아있다    6   \n",
       "3              4  #살아있다    0   \n",
       "4              5  #살아있다    0   \n",
       "...          ...    ...  ...   \n",
       "9567        9995  #살아있다    0   \n",
       "9568        9996  #살아있다    6   \n",
       "9569        9997  #살아있다    3   \n",
       "9570        9998  #살아있다    9   \n",
       "9571        9999  #살아있다    1   \n",
       "\n",
       "                                                 review  \n",
       "0     좀비물 웬만한건 다 재밌었는데 이건 정말이해안가는 부분도 많고 소방관좀비 나올때빼곤...  \n",
       "1     오늘 케이블에서 하길래봤는데 좀 어이없더라 마지막 헬기가 이륙해서 구하는건 말이 안...  \n",
       "2                                          어이없는 부분이 있네요  \n",
       "3     개연성 진짜 개노답 남자가 통신 안되서 베란다 매달려서 신호잡다가 추락 하는데 그 ...  \n",
       "4                                       시간 가는 줄 알고 봤습니다  \n",
       "...                                                 ...  \n",
       "9567                            진짜 짱 이런영화 처음 감독이 돈이 없었나  \n",
       "9568                           기대안하고보면 재미있게 볼수있는 영화 그자체  \n",
       "9569  유아인 박신혜아니였음 똥망 영화이지만집에 장을 많이 봐두고 먹을꺼 풍족하게 놓고 드...  \n",
       "9570                    엄마랑 재밌게봤음 재밋없다길래 기대안하고봤더니 존잼입니당  \n",
       "9571                 ㄹㅇ 대사보다 좀비들 그르릉 거리는게 더 많이나옴전개도 별로임  \n",
       "\n",
       "[9572 rows x 4 columns]"
      ]
     },
     "execution_count": 14,
     "metadata": {},
     "output_type": "execute_result"
    }
   ],
   "source": [
    "# 인덱싱 초기화 (위보면 알다시피 인덱스가 전체적으로 수정되지않음)\n",
    "xlsx3 = xlsx3.reset_index(drop=True)\n",
    "xlsx3"
   ]
  },
  {
   "cell_type": "code",
   "execution_count": 14,
   "id": "de4bb942",
   "metadata": {
    "ExecuteTime": {
     "end_time": "2022-01-13T02:25:34.922025Z",
     "start_time": "2022-01-13T02:25:34.919780Z"
    }
   },
   "outputs": [],
   "source": [
    "## 토큰화\n",
    "# mecab 코드"
   ]
  },
  {
   "cell_type": "code",
   "execution_count": 15,
   "id": "8b3860d0",
   "metadata": {
    "ExecuteTime": {
     "end_time": "2022-01-13T02:25:35.242892Z",
     "start_time": "2022-01-13T02:25:35.214522Z"
    }
   },
   "outputs": [],
   "source": [
    "from konlpy.tag import Mecab\n",
    "\n",
    "m = Mecab(dicpath=\"/usr/local/lib/mecab/dic/mecab-ko-dic\")\n",
    "# 사전 저장 경로에 자신이 mecab-ko-dic를 저장한 위치를 적는다. (default: \"/usr/local/lib/mecab/dic/mecab-ko-dic\")"
   ]
  },
  {
   "cell_type": "code",
   "execution_count": 62,
   "id": "9ea9703f",
   "metadata": {
    "ExecuteTime": {
     "end_time": "2022-01-13T02:52:08.087342Z",
     "start_time": "2022-01-13T02:52:08.082123Z"
    }
   },
   "outputs": [
    {
     "name": "stdout",
     "output_type": "stream",
     "text": [
      "['안녕', '하', '세요']\n",
      "['안녕']\n"
     ]
    }
   ],
   "source": [
    "#m.pos(\"안녕하세요\") # 형태소 분석\n",
    "#m.morphs(\"안녕하세요\") # 분리\n",
    "print(m.morphs(\"안녕하세요\"))\n",
    "print(m.nouns(\"안녕하세요\"))"
   ]
  },
  {
   "cell_type": "code",
   "execution_count": 17,
   "id": "b04ce01b",
   "metadata": {
    "ExecuteTime": {
     "end_time": "2022-01-13T02:25:37.831419Z",
     "start_time": "2022-01-13T02:25:37.821951Z"
    }
   },
   "outputs": [],
   "source": [
    "## 불용어집합 글자는 제외시키고 형태소별로 나눠서 따로 저장\n",
    "#stopwords=['뭐','으면','을','의','가','이','은','들','는','좀','잘','걍','과','도','를','으로','자','에','와','한','하다']\n",
    "\n",
    "#for x in ['의','가','이','은','들','는','좀','잘','걍','과','도','를','으로','자','에','와','한','하다']:\n",
    "#    stopwords.append(x)\n",
    "\n",
    "## 명사로 해볼까?\n",
    "\n",
    "A = \"아 휴 아이구 아이쿠 아이고 어 나 우리 저희 따라 의해 을 를 에 의 가 으로 로 에게 뿐이다 의거하여 근거하여 입각하여 기준으로 예하면 예를 들면 예를 들자면 저 소인 소생 저희 지말고 하지마 하지마라 다른 물론 또한 그리고 비길수 없다 해서는 안된다 뿐만 아니라 만이 아니다 만은 아니다 막론하고 관계없이 그치지 않다 그러나 그런데 하지만 든간에 논하지 않다 따지지 않다 설사 비록 더라도 아니면 만 못하다 하는 편이 낫다 불문하고 향하여 향해서 향하다 쪽으로 틈타 이용하여 타다 오르다 제외하고 이 외에 이 밖에 하여야 비로소 한다면 몰라도 외에도 이곳 여기 부터 기점으로 따라서 할 생각이다 하려고하다 이리하여 그리하여 그렇게 함으로써 하지만 일때 할때 앞에서 중에서 보는데서 으로써 로써 까지 해야한다 일것이다 반드시 할줄알다 할수있다 할수있어 임에 틀림없다 한다면 등 등등 제 겨우 단지 다만 할뿐 딩동 댕그 대해서 대하여 대하면 훨씬 얼마나 얼마만큼 얼마큼 남짓 여 얼마간 약간 다소 좀 조금 다수 몇 얼마 지만 하물며 또한 그러나 그렇지만 하지만 이외에도 대해 말하자면 뿐이다 다음에 반대로 반대로 말하자면 이와 반대로 바꾸어서 말하면 바꾸어서 한다면 만약 그렇지않으면 까악 툭 딱 삐걱거리다 보드득 비걱거리다 꽈당 응당 해야한다 에 가서 각 각각 여러분 각종 각자 제각기 하도록하다 와 과 그러므로 그래서 고로 한 까닭에 하기 때문에 거니와 이지만 대하여 관하여 관한 과연 실로 아니나다를가 생각한대로 진짜로 한적이있다 하곤하였다 하 하하 허허 아하 거바 와 오 왜 어째서 무엇때문에 어찌 하겠는가 무슨 어디 어느곳 더군다나 하물며 더욱이는 어느때 언제 야 이봐 어이 여보시오 흐흐 흥 휴 헉헉 헐떡헐떡 영차 여차 어기여차 끙끙 아야 앗 아야 콸콸 졸졸 좍좍 뚝뚝 주룩주룩 솨 우르르 그래도 또 그리고 바꾸어말하면 바꾸어말하자면 혹은 혹시 답다 및 그에 따르는 때가 되어 즉 지든지 설령 가령 하더라도 할지라도 일지라도 지든지 몇 거의 하마터면 인젠 이젠 된바에야 된이상 만큼 어찌됏든 그위에 게다가 점에서 보아 비추어 보아 고려하면 하게될것이다 일것이다 비교적 좀 보다더 비하면 시키다 하게하다 할만하다 의해서 연이서 이어서 잇따라 뒤따라 뒤이어 결국 의지하여 기대여 통하여 자마자 더욱더 불구하고 얼마든지 마음대로 주저하지 않고 곧 즉시 바로 당장 하자마자 밖에 안된다 하면된다 그래 그렇지 요컨대 다시 말하자면 바꿔 말하면 즉 구체적으로 말하자면 시작하여 시초에 이상 허 헉 허걱 바와같이 해도좋다 해도된다 게다가 더구나 하물며 와르르 팍 퍽 펄렁 동안 이래 하고있었다 이었다 에서 로부터 까지 예하면 했어요 해요 함께 같이 더불어 마저 마저도 양자 모두 습니다 가까스로 하려고하다 즈음하여 다른 다른 방면으로 해봐요 습니까 했어요 말할것도 없고 무릎쓰고 개의치않고 하는것만 못하다 하는것이 낫다 매 매번 들 모 어느것 어느 로써 갖고말하자면 어디 어느쪽 어느것 어느해 어느 년도 라 해도 언젠가 어떤것 어느것 저기 저쪽 저것 그때 그럼 그러면 요만한걸 그래 그때 저것만큼 그저 이르기까지 할 줄 안다 할 힘이 있다 너 너희 당신 어찌 설마 차라리 할지언정 할지라도 할망정 할지언정 구토하다 게우다 토하다 메쓰겁다 옆사람 퉤 쳇 의거하여 근거하여 의해 따라 힘입어 그 다음 버금 두번째로 기타 첫번째로 나머지는 그중에서 견지에서 형식으로 쓰여 입장에서 위해서 단지 의해되다 하도록시키다 뿐만아니라 반대로 전후 전자 앞의것 잠시 잠깐 하면서 그렇지만 다음에 그러한즉 그런즉 남들 아무거나 어찌하든지 같다 비슷하다 예컨대 이럴정도로 어떻게 만약 만일 위에서 서술한바와같이 인 듯하다 하지 않는다면 만약에 무엇 무슨 어느 어떤 아래윗 조차 한데 그럼에도 불구하고 여전히 심지어 까지도 조차도 하지 않도록 않기 위하여 때 시각 무렵 시간 동안 어때 어떠한 하여금 네 예 우선 누구 누가 알겠는가 아무도 줄은모른다 줄은 몰랏다 하는 김에 겸사겸사 하는바 그런 까닭에 한 이유는 그러니 그러니까 때문에 그 너희 그들 너희들 타인 것 것들 너 위하여 공동으로 동시에 하기 위하여 어찌하여 무엇때문에 붕붕 윙윙 나 우리 엉엉 휘익 윙윙 오호 아하 어쨋든 만 못하다 하기보다는 차라리 하는 편이 낫다 흐흐 놀라다 상대적으로 말하자면 마치 아니라면 쉿 그렇지 않으면 그렇지 않다면 안 그러면 아니었다면 하든지 아니면 이라면 좋아 알았어 하는것도 그만이다 어쩔수 없다 하나 일 일반적으로 일단 한켠으로는 오자마자 이렇게되면 이와같다면 전부 한마디 한항목 근거로 하기에 아울러 하지 않도록 않기 위해서 이르기까지 이 되다 로 인하여 까닭으로 이유만으로 이로 인하여 그래서 이 때문에 그러므로 그런 까닭에 알 수 있다 결론을 낼 수 있다 으로 인하여 있다 어떤것 관계가 있다 관련이 있다 연관되다 어떤것들 에 대해 이리하여 그리하여 여부 하기보다는 하느니 하면 할수록 운운 이러이러하다 하구나 하도다 다시말하면 다음으로 에 있다 에 달려 있다 우리 우리들 오히려 하기는한데 어떻게 어떻해 어찌됏어 어때 어째서 본대로 자 이 이쪽 여기 이것 이번 이렇게말하자면 이런 이러한 이와 같은 요만큼 요만한 것 얼마 안 되는 것 이만큼 이 정도의 이렇게 많은 것 이와 같다 이때 이렇구나 것과 같이 끼익 삐걱 따위 와 같은 사람들 부류의 사람들 왜냐하면 중의하나 오직 오로지 에 한하다 하기만 하면 도착하다 까지 미치다 도달하다 정도에 이르다 할 지경이다 결과에 이르다 관해서는 여러분 하고 있다 한 후 혼자 자기 자기집 자신 우에 종합한것과같이 총적으로 보면 총적으로 말하면 총적으로 대로 하다 으로서 참 그만이다 할 따름이다 쿵 탕탕 쾅쾅 둥둥 봐 봐라 아이야 아니 와아 응 아이 참나 년 월 일 령 영 일 이 삼 사 오 육 륙 칠 팔 구 이천육 이천칠 이천팔 이천구 하나 둘 셋 넷 다섯 여섯 일곱 여덟 아홉 령 영 이 있 하 것 들 그 되 수 이 보 않 없 나 사람 주 아니 등 같 우리 때 년 가 한 지 대하 오 말 일 그렇 위하 때문 그것 두 말하 알 그러나 받 못하 일 그런 또 문제 더 사회 많 그리고 좋 크 따르 중 나오 가지 씨 시키 만들 지금 생각하 그러 속 하나 집 살 모르 적 월 데 자신 안 어떤 내 내 경우 명 생각 시간 그녀 다시 이런 앞 보이 번 나 다른 어떻 여자 개 전 들 사실 이렇 점 싶 말 정도 좀 원 잘 통하 놓\"\n",
    "\n",
    "AA = A.split()"
   ]
  },
  {
   "cell_type": "code",
   "execution_count": 18,
   "id": "33ee59e2",
   "metadata": {
    "ExecuteTime": {
     "end_time": "2022-01-13T02:25:39.219727Z",
     "start_time": "2022-01-13T02:25:39.215051Z"
    }
   },
   "outputs": [],
   "source": [
    "B = open(\"불용어추가.txt\",\"r\")\n",
    "\n",
    "BB = []\n",
    "\n",
    "b = B.readlines()\n",
    "for x in b:\n",
    "    BB.append(x.strip())"
   ]
  },
  {
   "cell_type": "code",
   "execution_count": 19,
   "id": "9a66308d",
   "metadata": {
    "ExecuteTime": {
     "end_time": "2022-01-13T02:25:39.554086Z",
     "start_time": "2022-01-13T02:25:39.550058Z"
    }
   },
   "outputs": [],
   "source": [
    "# stopwords 합침\n",
    "stopwords = AA + BB\n",
    "\n",
    "stopwords = set(stopwords)\n",
    "stopwords = list(stopwords)"
   ]
  },
  {
   "cell_type": "code",
   "execution_count": 21,
   "id": "8cb8aeb0",
   "metadata": {
    "ExecuteTime": {
     "end_time": "2022-01-13T02:25:42.854608Z",
     "start_time": "2022-01-13T02:25:40.754067Z"
    }
   },
   "outputs": [],
   "source": [
    "xlsx4 = []\n",
    "for x in xlsx3[\"review\"]:\n",
    "    temp = []\n",
    "    temp = m.morphs(x)\n",
    "    \n",
    "    token = []\n",
    "    for y in temp:\n",
    "        if not y in stopwords:\n",
    "            token.append(y)\n",
    "    xlsx4.append(token)\n",
    "\n",
    "## xlsx4에 모든 리뷰들의 정제된단어들이 들어있다"
   ]
  },
  {
   "cell_type": "code",
   "execution_count": 23,
   "id": "9c9efc9a",
   "metadata": {
    "ExecuteTime": {
     "end_time": "2022-01-13T02:25:42.994450Z",
     "start_time": "2022-01-13T02:25:42.992671Z"
    }
   },
   "outputs": [
    {
     "name": "stdout",
     "output_type": "stream",
     "text": [
      "9572 9572\n"
     ]
    }
   ],
   "source": [
    "print(len(xlsx3),len(xlsx4))"
   ]
  },
  {
   "cell_type": "code",
   "execution_count": 24,
   "id": "b3cc8033",
   "metadata": {
    "ExecuteTime": {
     "end_time": "2022-01-13T02:25:43.014806Z",
     "start_time": "2022-01-13T02:25:43.012283Z"
    }
   },
   "outputs": [
    {
     "data": {
      "text/plain": [
       "0       0\n",
       "1       1\n",
       "2       6\n",
       "4       0\n",
       "5       0\n",
       "       ..\n",
       "9995    0\n",
       "9996    6\n",
       "9997    3\n",
       "9998    9\n",
       "9999    1\n",
       "Name: num, Length: 9572, dtype: int64"
      ]
     },
     "execution_count": 24,
     "metadata": {},
     "output_type": "execute_result"
    }
   ],
   "source": [
    "xlsx3[\"num\"]"
   ]
  },
  {
   "cell_type": "code",
   "execution_count": 25,
   "id": "958d9c1d",
   "metadata": {
    "ExecuteTime": {
     "end_time": "2022-01-13T02:25:46.751535Z",
     "start_time": "2022-01-13T02:25:46.744460Z"
    }
   },
   "outputs": [
    {
     "data": {
      "text/plain": [
       "'# 문제 리스트의 인덱스를 이용해 제거하자\\nxlsx4 = np.delete(xlsx4, drop_ten, axis=0)\\nY = np.delete(Y, drop_ten, axis=0)'"
      ]
     },
     "execution_count": 25,
     "metadata": {},
     "output_type": "execute_result"
    }
   ],
   "source": [
    "## 9점 제거하자\n",
    "\n",
    "#미리 Y를 정해두자\n",
    "Y = xlsx3[\"num\"].reset_index(drop=True)\n",
    "Y = np.asarray(Y)\n"
   ]
  },
  {
   "cell_type": "code",
   "execution_count": 27,
   "id": "00d11cfa",
   "metadata": {
    "ExecuteTime": {
     "end_time": "2022-01-13T02:26:15.618844Z",
     "start_time": "2022-01-13T02:26:15.214669Z"
    }
   },
   "outputs": [],
   "source": [
    "# nltk 에서 vocab 단어장을 불러오자(단어 빈도수 측정기)\n",
    "import nltk\n",
    "from nltk import FreqDist"
   ]
  },
  {
   "cell_type": "code",
   "execution_count": 28,
   "id": "705a2492",
   "metadata": {
    "ExecuteTime": {
     "end_time": "2022-01-13T02:26:16.647257Z",
     "start_time": "2022-01-13T02:26:16.495460Z"
    }
   },
   "outputs": [],
   "source": [
    "# vocab과 대조해서 얼마나 많이 나오는지 확인\n",
    "vocab = FreqDist(np.hstack(xlsx4))"
   ]
  },
  {
   "cell_type": "code",
   "execution_count": 29,
   "id": "493ac308",
   "metadata": {
    "ExecuteTime": {
     "end_time": "2022-01-13T02:26:16.838890Z",
     "start_time": "2022-01-13T02:26:16.833533Z"
    }
   },
   "outputs": [
    {
     "data": {
      "text/plain": [
       "11391"
      ]
     },
     "execution_count": 29,
     "metadata": {},
     "output_type": "execute_result"
    }
   ],
   "source": [
    "len(vocab)"
   ]
  },
  {
   "cell_type": "code",
   "execution_count": 30,
   "id": "2e268678",
   "metadata": {
    "ExecuteTime": {
     "end_time": "2022-01-13T02:26:17.661266Z",
     "start_time": "2022-01-13T02:26:17.654490Z"
    }
   },
   "outputs": [
    {
     "data": {
      "text/plain": [
       "FreqDist({'는': 7222, '고': 6100, '영화': 5642, '다': 4350, '도': 4197, '은': 3143, '비': 2559, '게': 2402, '는데': 2096, '음': 1850, ...})"
      ]
     },
     "execution_count": 30,
     "metadata": {},
     "output_type": "execute_result"
    }
   ],
   "source": [
    "vocab"
   ]
  },
  {
   "cell_type": "code",
   "execution_count": null,
   "id": "404cb38d",
   "metadata": {},
   "outputs": [],
   "source": [
    "## 일일이 확인하면서 적당한 빈도수를 가진 단어까지 짤라내자\n",
    "for i,x in enumerate(vocab):\n",
    "    print(i,x)"
   ]
  },
  {
   "cell_type": "code",
   "execution_count": 32,
   "id": "347e2650",
   "metadata": {
    "ExecuteTime": {
     "end_time": "2022-01-13T02:30:47.162747Z",
     "start_time": "2022-01-13T02:30:47.158995Z"
    }
   },
   "outputs": [
    {
     "data": {
      "text/plain": [
       "44"
      ]
     },
     "execution_count": 32,
     "metadata": {},
     "output_type": "execute_result"
    }
   ],
   "source": [
    "#임의로 선정한 500번쨰\n",
    "vocab[\"풀\"]"
   ]
  },
  {
   "cell_type": "code",
   "execution_count": null,
   "id": "628a31e5",
   "metadata": {},
   "outputs": [],
   "source": [
    "## 제일 많이 나오는 단어 순으로 n개 만 저장\n",
    "vocab2 = vocab.most_common(500)"
   ]
  },
  {
   "cell_type": "code",
   "execution_count": 34,
   "id": "34437d4b",
   "metadata": {
    "ExecuteTime": {
     "end_time": "2022-01-13T02:30:48.559728Z",
     "start_time": "2022-01-13T02:30:48.554093Z"
    }
   },
   "outputs": [
    {
     "data": {
      "text/plain": [
       "'# 패딩 토큰(길이 맞추자)\\nindex_word[\"pad\"] = 0\\n    \\n# 단어집합에 없는 토큰\\nindex_word[\"unk\"] = 1 \\n\\n\\n#{\\'영화\\': 2, \\'고\\': 3, \\'다\\': 4, \\'하\\': 5,... \\'pad\\' = 1}'"
      ]
     },
     "execution_count": 34,
     "metadata": {},
     "output_type": "execute_result"
    }
   ],
   "source": [
    "# 단어별로 정수 부여\n",
    "index_word = {}\n",
    "\n",
    "for i,x in enumerate(vocab2):\n",
    "    index_word[x[0]]=i+1\n",
    "    \n",
    "# 1부터 세기 (0은 패딩용)"
   ]
  },
  {
   "cell_type": "code",
   "execution_count": null,
   "id": "34844943",
   "metadata": {},
   "outputs": [],
   "source": [
    "# 많은 수 대로 인덱싱순서 정함\n",
    "index_word"
   ]
  },
  {
   "cell_type": "code",
   "execution_count": 36,
   "id": "9cd51625",
   "metadata": {
    "ExecuteTime": {
     "end_time": "2022-01-13T02:30:49.931395Z",
     "start_time": "2022-01-13T02:30:49.874039Z"
    }
   },
   "outputs": [],
   "source": [
    "# 정수 변환\n",
    "X = []\n",
    "a = 0\n",
    "for x in xlsx4: # 단어들로쪼개놓은 전체 집합\n",
    "    temp = []\n",
    "    for y in x:\n",
    "        try:\n",
    "            temp.append(index_word[y]) # 해당 정수로 전환해서 저장\n",
    "        except KeyError:\n",
    "            a= a+1 # 오류나면 딴거 실행(의미없는 구문)\n",
    "    X.append(temp)\n",
    "    \n",
    "# X가 없는단어 0처리 직전 최종데이터"
   ]
  },
  {
   "cell_type": "code",
   "execution_count": 38,
   "id": "ed5f1c45",
   "metadata": {
    "ExecuteTime": {
     "end_time": "2022-01-13T02:30:51.346062Z",
     "start_time": "2022-01-13T02:30:51.339363Z"
    }
   },
   "outputs": [
    {
     "name": "stdout",
     "output_type": "stream",
     "text": [
      "[47, 118, 139, 214, 286, 302, 329, 455, 896, 1029, 1086, 1211, 1268, 1309, 1468, 1639, 1952, 2083, 2213, 2263, 2291, 2376, 2421, 2507, 2555, 2594, 2620, 2797, 3008, 3048, 3122, 3142, 3215, 3335, 3339, 3386, 3680, 3819, 4167, 4174, 4214, 4415, 4432, 4516, 4613, 4715, 4832, 5015, 5280, 5401, 5484, 5588, 5694, 5702, 5772, 5897, 5963, 6069, 6118, 6125, 6172, 6187, 6241, 6270, 6465, 6472, 6521, 6522, 6570, 6579, 6621, 6763, 6809, 6816, 6866, 6907, 7053, 7065, 7133, 7245, 7275, 7406, 7439, 7455, 7499, 7601, 7624, 7781, 7824, 7835, 7939, 7942, 7998, 8022, 8100, 8103, 8329, 8430, 8433, 8638, 8666, 8855, 8902, 8945, 9068, 9114, 9153, 9453, 9543]\n"
     ]
    }
   ],
   "source": [
    "# \"없는 단어는 0으로 처리\" 하지 않았기에 제거시 문장이 없는 리스트도 존재하기 마련임\n",
    "# 문제 리스트의 인덱스를 모아보자\n",
    "drop = []\n",
    "for i,x in enumerate(X):\n",
    "    if len(x) < 1:\n",
    "        drop.append(i)\n",
    "print(drop)"
   ]
  },
  {
   "cell_type": "code",
   "execution_count": 39,
   "id": "af615dc6",
   "metadata": {
    "ExecuteTime": {
     "end_time": "2022-01-13T02:30:54.853886Z",
     "start_time": "2022-01-13T02:30:54.849572Z"
    }
   },
   "outputs": [
    {
     "data": {
      "text/plain": [
       "array([0, 1, 6, ..., 3, 9, 1])"
      ]
     },
     "execution_count": 39,
     "metadata": {},
     "output_type": "execute_result"
    }
   ],
   "source": [
    "# Y는 이미 위에 처리함\n",
    "Y"
   ]
  },
  {
   "cell_type": "code",
   "execution_count": 40,
   "id": "eebf2dd5",
   "metadata": {
    "ExecuteTime": {
     "end_time": "2022-01-13T02:30:55.680178Z",
     "start_time": "2022-01-13T02:30:55.669827Z"
    }
   },
   "outputs": [
    {
     "name": "stdout",
     "output_type": "stream",
     "text": [
      "9463 9463\n"
     ]
    },
    {
     "name": "stderr",
     "output_type": "stream",
     "text": [
      "/Users/yu/miniforge3/envs/tf39/lib/python3.9/site-packages/numpy/lib/function_base.py:5030: VisibleDeprecationWarning: Creating an ndarray from ragged nested sequences (which is a list-or-tuple of lists-or-tuples-or ndarrays with different lengths or shapes) is deprecated. If you meant to do this, you must specify 'dtype=object' when creating the ndarray.\n",
      "  arr = asarray(arr)\n"
     ]
    }
   ],
   "source": [
    "# 문제 리스트의 인덱스를 이용해 제거하자\n",
    "data_x = np.delete(X, drop, axis=0)\n",
    "data_y = np.delete(Y, drop, axis=0)\n",
    "\n",
    "# 두 x,y 데이터 수 출력\n",
    "print(len(data_x),len(data_y))"
   ]
  },
  {
   "cell_type": "code",
   "execution_count": 41,
   "id": "724a6ff5",
   "metadata": {
    "ExecuteTime": {
     "end_time": "2022-01-13T02:30:57.056248Z",
     "start_time": "2022-01-13T02:30:56.587895Z"
    }
   },
   "outputs": [
    {
     "name": "stdout",
     "output_type": "stream",
     "text": [
      "리뷰의 최대 길이 : 218\n",
      "리뷰의 최소 길이 : 1\n",
      "리뷰의 평균 길이 : 13.587129\n"
     ]
    },
    {
     "data": {
      "image/png": "[encoded data removed]",
      "text/plain": [
       "<Figure size 432x288 with 1 Axes>"
      ]
     },
     "metadata": {
      "needs_background": "light"
     },
     "output_type": "display_data"
    }
   ],
   "source": [
    "# 패딩(모든 문장들은 동일한 길이로 바꿔!) -> pad 이용\n",
    "\n",
    "# 일단 리뷰길이를 확인해보자\n",
    "import matplotlib.pyplot as plt\n",
    "max_len = max(len(l) for l in data_x)\n",
    "print('리뷰의 최대 길이 : %d' % max_len)\n",
    "print('리뷰의 최소 길이 : %d' % min(len(l) for l in data_x))\n",
    "print('리뷰의 평균 길이 : %f' % (sum(map(len, data_x))/len(data_x)))\n",
    "plt.hist([len(s) for s in data_x], bins=50)\n",
    "plt.xlabel('length of sample')\n",
    "plt.ylabel('number of sample')\n",
    "plt.show()"
   ]
  },
  {
   "cell_type": "code",
   "execution_count": 42,
   "id": "adb71089",
   "metadata": {
    "ExecuteTime": {
     "end_time": "2022-01-13T02:31:00.539261Z",
     "start_time": "2022-01-13T02:31:00.530707Z"
    }
   },
   "outputs": [
    {
     "name": "stdout",
     "output_type": "stream",
     "text": [
      "전체 샘플 중 길이가 30 이하인 샘플의 비율: 91.31842875052236\n"
     ]
    }
   ],
   "source": [
    "# 블로그 참조 -> 샘플 비율 측정\n",
    "def below_threshold_len(max_len, nested_list):\n",
    "  count = 0\n",
    "  for sentence in nested_list:\n",
    "    if(len(sentence) <= max_len):\n",
    "        count = count + 1\n",
    "  print('전체 샘플 중 길이가 %s 이하인 샘플의 비율: %s'%(max_len, (count / len(nested_list))*100))\n",
    "\n",
    "below_threshold_len(30, X)"
   ]
  },
  {
   "cell_type": "code",
   "execution_count": 43,
   "id": "4f1e886a",
   "metadata": {
    "ExecuteTime": {
     "end_time": "2022-01-13T02:31:03.522518Z",
     "start_time": "2022-01-13T02:31:01.235569Z"
    }
   },
   "outputs": [],
   "source": [
    "# 최대길이 30으로 잡는게 좋을거같아\n",
    "from tensorflow.keras.preprocessing.sequence import pad_sequences\n",
    "\n",
    "data_x = pad_sequences(data_x,padding=\"post\",truncating=\"post\",maxlen=30)\n",
    "\n",
    "# post:뒤부터 0처리 // truncating: 데이터 손실을 어디에서 -> post:뒤"
   ]
  },
  {
   "cell_type": "code",
   "execution_count": 44,
   "id": "258bb838",
   "metadata": {
    "ExecuteTime": {
     "end_time": "2022-01-13T02:31:22.291104Z",
     "start_time": "2022-01-13T02:31:22.286955Z"
    }
   },
   "outputs": [
    {
     "data": {
      "text/plain": [
       "9463"
      ]
     },
     "execution_count": 44,
     "metadata": {},
     "output_type": "execute_result"
    }
   ],
   "source": [
    "len(data_x)"
   ]
  },
  {
   "cell_type": "code",
   "execution_count": 45,
   "id": "290cb3a4",
   "metadata": {
    "ExecuteTime": {
     "end_time": "2022-01-13T02:31:22.946776Z",
     "start_time": "2022-01-13T02:31:22.939651Z"
    }
   },
   "outputs": [
    {
     "data": {
      "text/plain": [
       "array([138,   6, 256,  22,  10,   0,   0,   0,   0,   0,   0,   0,   0,\n",
       "         0,   0,   0,   0,   0,   0,   0,   0,   0,   0,   0,   0,   0,\n",
       "         0,   0,   0,   0], dtype=int32)"
      ]
     },
     "execution_count": 45,
     "metadata": {},
     "output_type": "execute_result"
    }
   ],
   "source": [
    "data_x[1000]"
   ]
  },
  {
   "cell_type": "code",
   "execution_count": 46,
   "id": "39c8243e",
   "metadata": {
    "ExecuteTime": {
     "end_time": "2022-01-13T02:31:23.760844Z",
     "start_time": "2022-01-13T02:31:23.756319Z"
    }
   },
   "outputs": [
    {
     "data": {
      "text/plain": [
       "'for x in X:\\n    while len(x) < 353 #제일 긴 길이 : 353\\n        x.append(0)\\n        \\nX_np = np.arrray(X)\\nX_np'"
      ]
     },
     "execution_count": 46,
     "metadata": {},
     "output_type": "execute_result"
    }
   ],
   "source": [
    "## if) 전체 길이로 퉁치기\n",
    "'''for x in X:\n",
    "    while len(x) < 353 #제일 긴 길이 : 353\n",
    "        x.append(0)\n",
    "        \n",
    "X_np = np.arrray(X)\n",
    "X_np'''"
   ]
  },
  {
   "cell_type": "code",
   "execution_count": 47,
   "id": "fa326444",
   "metadata": {
    "ExecuteTime": {
     "end_time": "2022-01-13T02:31:24.929163Z",
     "start_time": "2022-01-13T02:31:24.925102Z"
    }
   },
   "outputs": [
    {
     "data": {
      "text/plain": [
       "'# 최종적으로 데이터셋 완성\\ndata = []\\n#Y = xlsx3[\"num\"]\\n\\nfor i in range(len(X)):\\n    data.append((data_x[i],data_y[i]))'"
      ]
     },
     "execution_count": 47,
     "metadata": {},
     "output_type": "execute_result"
    }
   ],
   "source": [
    "# 튜플화하고 싶었는데 잘안됨 -> 다르게 해보자\n",
    "\n",
    "'''# 최종적으로 데이터셋 완성\n",
    "data = []\n",
    "#Y = xlsx3[\"num\"]\n",
    "\n",
    "for i in range(len(X)):\n",
    "    data.append((data_x[i],data_y[i]))'''"
   ]
  },
  {
   "cell_type": "code",
   "execution_count": 48,
   "id": "f5580bdb",
   "metadata": {
    "ExecuteTime": {
     "end_time": "2022-01-13T02:31:25.851398Z",
     "start_time": "2022-01-13T02:31:25.835437Z"
    }
   },
   "outputs": [],
   "source": [
    "#train, test 데이터로 나누기\n",
    "train_x = []\n",
    "train_y = []\n",
    "test_x = []\n",
    "test_y = []\n",
    "\n",
    "for i in range(len(data_x)):\n",
    "    if i < 0.8*len(data_x):\n",
    "        train_x.append(data_x[i])\n",
    "        train_y.append(data_y[i])\n",
    "    else:\n",
    "        test_x.append(data_x[i])\n",
    "        test_y.append(data_y[i])"
   ]
  },
  {
   "cell_type": "code",
   "execution_count": 49,
   "id": "99d7f197",
   "metadata": {
    "ExecuteTime": {
     "end_time": "2022-01-13T02:31:26.350988Z",
     "start_time": "2022-01-13T02:31:26.345930Z"
    }
   },
   "outputs": [],
   "source": [
    "train_x = np.asarray(train_x)\n",
    "train_y = np.asarray(train_y)\n",
    "test_x = np.asarray(test_x)\n",
    "test_y = np.asarray(test_y)"
   ]
  },
  {
   "cell_type": "code",
   "execution_count": 50,
   "id": "d0ff5a01",
   "metadata": {
    "ExecuteTime": {
     "end_time": "2022-01-13T02:31:26.898177Z",
     "start_time": "2022-01-13T02:31:26.893266Z"
    }
   },
   "outputs": [
    {
     "name": "stdout",
     "output_type": "stream",
     "text": [
      "7571 1892\n",
      "7571 1892\n"
     ]
    }
   ],
   "source": [
    "print(len(train_x),len(test_x))\n",
    "print(len(train_y),len(test_y))"
   ]
  },
  {
   "cell_type": "code",
   "execution_count": 59,
   "id": "c8eb883d",
   "metadata": {
    "ExecuteTime": {
     "end_time": "2022-01-13T02:37:43.309938Z",
     "start_time": "2022-01-13T02:36:46.517547Z"
    }
   },
   "outputs": [
    {
     "name": "stdout",
     "output_type": "stream",
     "text": [
      "Epoch 1/7\n"
     ]
    },
    {
     "name": "stderr",
     "output_type": "stream",
     "text": [
      "2022-01-13 11:36:47.057938: I tensorflow/core/grappler/optimizers/custom_graph_optimizer_registry.cc:112] Plugin optimizer for device_type GPU is enabled.\n",
      "2022-01-13 11:36:47.221014: I tensorflow/core/grappler/optimizers/custom_graph_optimizer_registry.cc:112] Plugin optimizer for device_type GPU is enabled.\n"
     ]
    },
    {
     "name": "stdout",
     "output_type": "stream",
     "text": [
      "\r",
      "  1/237 [..............................] - ETA: 2:58 - loss: 2.3039 - acc: 0.1250"
     ]
    },
    {
     "name": "stderr",
     "output_type": "stream",
     "text": [
      "2022-01-13 11:36:47.312298: I tensorflow/core/grappler/optimizers/custom_graph_optimizer_registry.cc:112] Plugin optimizer for device_type GPU is enabled.\n"
     ]
    },
    {
     "name": "stdout",
     "output_type": "stream",
     "text": [
      "237/237 [==============================] - ETA: 0s - loss: 1.7862 - acc: 0.3970"
     ]
    },
    {
     "name": "stderr",
     "output_type": "stream",
     "text": [
      "2022-01-13 11:36:54.947564: I tensorflow/core/grappler/optimizers/custom_graph_optimizer_registry.cc:112] Plugin optimizer for device_type GPU is enabled.\n",
      "2022-01-13 11:36:54.997161: I tensorflow/core/grappler/optimizers/custom_graph_optimizer_registry.cc:112] Plugin optimizer for device_type GPU is enabled.\n"
     ]
    },
    {
     "name": "stdout",
     "output_type": "stream",
     "text": [
      "237/237 [==============================] - 9s 35ms/step - loss: 1.7862 - acc: 0.3970 - val_loss: 1.7890 - val_acc: 0.3990\n",
      "Epoch 2/7\n",
      "237/237 [==============================] - 8s 33ms/step - loss: 1.6275 - acc: 0.4278 - val_loss: 1.7303 - val_acc: 0.4345\n",
      "Epoch 3/7\n",
      "237/237 [==============================] - 8s 35ms/step - loss: 1.5845 - acc: 0.4386 - val_loss: 1.6763 - val_acc: 0.4487\n",
      "Epoch 4/7\n",
      "237/237 [==============================] - 8s 33ms/step - loss: 1.5686 - acc: 0.4398 - val_loss: 1.6892 - val_acc: 0.4413\n",
      "Epoch 5/7\n",
      "237/237 [==============================] - 8s 33ms/step - loss: 1.5530 - acc: 0.4419 - val_loss: 1.6901 - val_acc: 0.4456\n",
      "Epoch 6/7\n",
      "237/237 [==============================] - 8s 33ms/step - loss: 1.5384 - acc: 0.4467 - val_loss: 1.6839 - val_acc: 0.4572\n",
      "Epoch 7/7\n",
      "237/237 [==============================] - 8s 33ms/step - loss: 1.5304 - acc: 0.4503 - val_loss: 1.6543 - val_acc: 0.4545\n"
     ]
    }
   ],
   "source": [
    "# 1 gru\n",
    "import re\n",
    "from tensorflow.keras.datasets import imdb\n",
    "from tensorflow.keras.models import Sequential\n",
    "from tensorflow.keras.layers import Dense, GRU, Embedding\n",
    "\n",
    "vocab_size = 500\n",
    "embedding_dim = 30\n",
    "hidden_units = 512\n",
    "\n",
    "\n",
    "model = Sequential()\n",
    "model.add(Embedding(vocab_size+1, embedding_dim))\n",
    "model.add(GRU(hidden_units))\n",
    "model.add(Dense(10, activation='softmax'))\n",
    "\n",
    "model.compile(optimizer='rmsprop', loss='sparse_categorical_crossentropy', metrics=['acc'])\n",
    "history = model.fit(train_x, train_y, epochs=7,\n",
    "                   validation_data=(test_x,test_y))"
   ]
  },
  {
   "cell_type": "code",
   "execution_count": 60,
   "id": "217404f4",
   "metadata": {
    "ExecuteTime": {
     "end_time": "2022-01-13T02:39:47.883845Z",
     "start_time": "2022-01-13T02:39:47.795437Z"
    }
   },
   "outputs": [
    {
     "data": {
      "image/png": "[encoded data removed]",
      "text/plain": [
       "<Figure size 432x288 with 1 Axes>"
      ]
     },
     "metadata": {
      "needs_background": "light"
     },
     "output_type": "display_data"
    }
   ],
   "source": [
    "## 그래프로 확인하기\n",
    "\n",
    "import matplotlib.pyplot as plt\n",
    "\n",
    "loss = history.history['loss']\n",
    "val_loss = history.history['val_loss']\n",
    "\n",
    "epochs = range(1, len(loss) + 1)\n",
    "\n",
    "plt.plot(epochs, loss, 'b',label='Training loss')\n",
    "plt.plot(epochs, val_loss, 'r' ,label='Validation loss')\n",
    "plt.title('Training and validation loss')\n",
    "plt.xlabel('Epochs')\n",
    "plt.ylabel('Loss')\n",
    "plt.legend()\n",
    "\n",
    "plt.show()"
   ]
  },
  {
   "cell_type": "code",
   "execution_count": 61,
   "id": "1d71e117",
   "metadata": {
    "ExecuteTime": {
     "end_time": "2022-01-13T02:39:49.705626Z",
     "start_time": "2022-01-13T02:39:49.620344Z"
    }
   },
   "outputs": [
    {
     "data": {
      "image/png": "[encoded data removed]",
      "text/plain": [
       "<Figure size 432x288 with 1 Axes>"
      ]
     },
     "metadata": {
      "needs_background": "light"
     },
     "output_type": "display_data"
    }
   ],
   "source": [
    "# 모델마다 acc <-> accuracy 바꿔줘야함\n",
    "\n",
    "plt.clf()\n",
    "acc = history.history['acc']\n",
    "val_acc = history.history['val_acc']\n",
    "\n",
    "plt.plot(epochs, acc, 'b', label='Training acc')\n",
    "plt.plot(epochs, val_acc, 'r', label='Validation acc')\n",
    "plt.title('Training and validation accuracy')\n",
    "plt.xlabel('Epochs')\n",
    "plt.ylabel('Accuracy')\n",
    "plt.legend()\n",
    "\n",
    "plt.show()"
   ]
  },
  {
   "cell_type": "code",
   "execution_count": null,
   "id": "ee2254dc",
   "metadata": {},
   "outputs": [],
   "source": [
    "########### 다른 모델도 구현 -> 성능이 낮게 측정되서 제외 ############"
   ]
  },
  {
   "cell_type": "code",
   "execution_count": 63,
   "id": "e42b9922",
   "metadata": {
    "ExecuteTime": {
     "end_time": "2022-01-13T05:42:31.717077Z",
     "start_time": "2022-01-13T05:42:31.488486Z"
    }
   },
   "outputs": [],
   "source": [
    "# 2 lstm\n",
    "\n",
    "from tensorflow.keras.models import Sequential\n",
    "from tensorflow.keras.layers import Dense, LSTM, Embedding\n",
    "\n",
    "vocab_size = 500\n",
    "embedding_dimension2 = 30\n",
    "\n",
    "model = Sequential()\n",
    "model.add(Embedding(vocab_size +1, embedding_dimension2))\n",
    "model.add(LSTM(512))\n",
    "model.add(Dense(10,activation = 'softmax'))"
   ]
  },
  {
   "cell_type": "code",
   "execution_count": 64,
   "id": "e0eb4fc3",
   "metadata": {
    "ExecuteTime": {
     "end_time": "2022-01-13T05:42:35.370264Z",
     "start_time": "2022-01-13T05:42:35.356475Z"
    }
   },
   "outputs": [],
   "source": [
    "model.compile(optimizer='rmsprop',\n",
    "              loss='sparse_categorical_crossentropy',\n",
    "              metrics=['accuracy'])"
   ]
  },
  {
   "cell_type": "code",
   "execution_count": null,
   "id": "450984a6",
   "metadata": {},
   "outputs": [],
   "source": [
    "history = model.fit(train_x,\n",
    "                    train_y,\n",
    "                    epochs=20,\n",
    "                    validation_data=(test_x, test_y))"
   ]
  }
 ],
 "metadata": {
  "kernelspec": {
   "display_name": "Python 3 (ipykernel)",
   "language": "python",
   "name": "python3"
  },
  "language_info": {
   "codemirror_mode": {
    "name": "ipython",
    "version": 3
   },
   "file_extension": ".py",
   "mimetype": "text/x-python",
   "name": "python",
   "nbconvert_exporter": "python",
   "pygments_lexer": "ipython3",
   "version": "3.9.9"
  },
  "toc": {
   "base_numbering": 1,
   "nav_menu": {},
   "number_sections": true,
   "sideBar": true,
   "skip_h1_title": false,
   "title_cell": "Table of Contents",
   "title_sidebar": "Contents",
   "toc_cell": false,
   "toc_position": {},
   "toc_section_display": true,
   "toc_window_display": false
  },
  "varInspector": {
   "cols": {
    "lenName": 16,
    "lenType": 16,
    "lenVar": 40
   },
   "kernels_config": {
    "python": {
     "delete_cmd_postfix": "",
     "delete_cmd_prefix": "del ",
     "library": "var_list.py",
     "varRefreshCmd": "print(var_dic_list())"
    },
    "r": {
     "delete_cmd_postfix": ") ",
     "delete_cmd_prefix": "rm(",
     "library": "var_list.r",
     "varRefreshCmd": "cat(var_dic_list()) "
    }
   },
   "types_to_exclude": [
    "module",
    "function",
    "builtin_function_or_method",
    "instance",
    "_Feature"
   ],
   "window_display": false
  }
 },
 "nbformat": 4,
 "nbformat_minor": 5
}
